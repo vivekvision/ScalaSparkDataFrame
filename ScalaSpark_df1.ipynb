{
 "cells": [
  {
   "cell_type": "code",
   "execution_count": 18,
   "id": "a36182d0-bf5c-4d79-9dcf-8fb00e09fd46",
   "metadata": {},
   "outputs": [
    {
     "data": {
      "text/plain": [
       "import org.apache.spark.sql.SparkSession\n",
       "spark: org.apache.spark.sql.SparkSession = org.apache.spark.sql.SparkSession@1226b3b1\n",
       "import spark.implicits._\n"
      ]
     },
     "execution_count": 18,
     "metadata": {},
     "output_type": "execute_result"
    }
   ],
   "source": [
    "import org.apache.spark.sql.SparkSession\n",
    "\n",
    "val spark = SparkSession.builder()\n",
    "                        .appName(\"TestApp\")\n",
    "                        .config(\"spark.master\", \"local\")\n",
    "                        .getOrCreate()\n",
    "\n",
    "import spark.implicits._"
   ]
  },
  {
   "cell_type": "code",
   "execution_count": 19,
   "id": "06e5cbd2-9c0e-41c8-8773-0e5909bfebdc",
   "metadata": {},
   "outputs": [
    {
     "data": {
      "text/plain": [
       "res13: String = 3.2.1\n"
      ]
     },
     "execution_count": 19,
     "metadata": {},
     "output_type": "execute_result"
    }
   ],
   "source": [
    "spark.version"
   ]
  },
  {
   "cell_type": "code",
   "execution_count": 20,
   "id": "abc5d345-4a3c-43e2-a12d-cf50f62f7641",
   "metadata": {},
   "outputs": [
    {
     "data": {
      "text/plain": [
       "df: org.apache.spark.sql.DataFrame = [Date: string, Open: double ... 4 more fields]\n"
      ]
     },
     "execution_count": 20,
     "metadata": {},
     "output_type": "execute_result"
    }
   ],
   "source": [
    "val df = spark.read.option(\"header\", \"true\").option(\"inferSchema\", \"true\").csv(\"Data_2006_2008\")"
   ]
  },
  {
   "cell_type": "code",
   "execution_count": 21,
   "id": "37ddb091-2ab2-4366-809b-be97e27c48a3",
   "metadata": {},
   "outputs": [
    {
     "name": "stdout",
     "output_type": "stream",
     "text": [
      "root\n",
      " |-- Date: string (nullable = true)\n",
      " |-- Open: double (nullable = true)\n",
      " |-- High: double (nullable = true)\n",
      " |-- Low: double (nullable = true)\n",
      " |-- Close: double (nullable = true)\n",
      " |-- Volume: integer (nullable = true)\n",
      "\n"
     ]
    }
   ],
   "source": [
    "df.printSchema()"
   ]
  },
  {
   "cell_type": "code",
   "execution_count": 22,
   "id": "2db10378-c434-49c6-8afb-01bc13bfd57c",
   "metadata": {},
   "outputs": [
    {
     "name": "stdout",
     "output_type": "stream",
     "text": [
      "+----------+\n",
      "|      Date|\n",
      "+----------+\n",
      "|2006-01-03|\n",
      "|2006-01-04|\n",
      "|2006-01-05|\n",
      "|2006-01-06|\n",
      "|2006-01-09|\n",
      "+----------+\n",
      "only showing top 5 rows\n",
      "\n"
     ]
    }
   ],
   "source": [
    "df.select(\"Date\").show(5)"
   ]
  },
  {
   "cell_type": "code",
   "execution_count": 23,
   "id": "652cca40-7b94-4f03-9584-9038b26fdb34",
   "metadata": {},
   "outputs": [
    {
     "name": "stdout",
     "output_type": "stream",
     "text": [
      "+----------+-----+-----+-----+-----+-------+\n",
      "|      Date| Open| High|  Low|Close| Volume|\n",
      "+----------+-----+-----+-----+-----+-------+\n",
      "|2006-01-03|490.0|493.8|481.1|492.9|1537660|\n",
      "|2006-01-04|488.6|491.0|483.5|483.8|1871020|\n",
      "|2006-01-05|484.4|487.8|484.0|486.2|1143160|\n",
      "|2006-01-06|488.8|489.0|482.0|486.2|1370250|\n",
      "|2006-01-09|486.0|487.4|483.0|483.9|1680740|\n",
      "+----------+-----+-----+-----+-----+-------+\n",
      "only showing top 5 rows\n",
      "\n"
     ]
    }
   ],
   "source": [
    "df.filter($\"close\" > 480).show(5)"
   ]
  },
  {
   "cell_type": "code",
   "execution_count": 24,
   "id": "634cb214-bff3-4bf8-8ad2-002af110603c",
   "metadata": {},
   "outputs": [
    {
     "name": "stdout",
     "output_type": "stream",
     "text": [
      "+----------+-----+-----+-----+-----+-------+\n",
      "|      Date| Open| High|  Low|Close| Volume|\n",
      "+----------+-----+-----+-----+-----+-------+\n",
      "|2006-01-20|472.1|474.0|456.3|456.9|4781930|\n",
      "|2006-01-23|460.0|463.8|457.0|460.0|2025500|\n",
      "|2006-01-24|462.9|463.6|459.9|460.1|2083740|\n",
      "|2006-01-25|461.4|463.7|460.1|462.3|1591940|\n",
      "|2006-01-26|465.5|475.5|464.5|470.1|1988600|\n",
      "+----------+-----+-----+-----+-----+-------+\n",
      "only showing top 5 rows\n",
      "\n"
     ]
    }
   ],
   "source": [
    "df.filter($\"Close\" < 480 && $\"High\" < 480).show(5)"
   ]
  },
  {
   "cell_type": "code",
   "execution_count": 25,
   "id": "fea91439-e782-4347-99cb-44c469e45c01",
   "metadata": {},
   "outputs": [
    {
     "name": "stdout",
     "output_type": "stream",
     "text": [
      "+----------+-----+-----+-----+-----+-------+\n",
      "|      Date| Open| High|  Low|Close| Volume|\n",
      "+----------+-----+-----+-----+-----+-------+\n",
      "|2006-01-20|472.1|474.0|456.3|456.9|4781930|\n",
      "|2006-01-23|460.0|463.8|457.0|460.0|2025500|\n",
      "|2006-01-24|462.9|463.6|459.9|460.1|2083740|\n",
      "|2006-01-25|461.4|463.7|460.1|462.3|1591940|\n",
      "|2006-01-26|465.5|475.5|464.5|470.1|1988600|\n",
      "+----------+-----+-----+-----+-----+-------+\n",
      "only showing top 5 rows\n",
      "\n"
     ]
    },
    {
     "data": {
      "text/plain": [
       "ch_low: org.apache.spark.sql.Dataset[org.apache.spark.sql.Row] = [Date: string, Open: double ... 4 more fields]\n"
      ]
     },
     "execution_count": 25,
     "metadata": {},
     "output_type": "execute_result"
    }
   ],
   "source": [
    "val ch_low = df.filter($\"Close\" < 480 && $\"High\" < 480)\n",
    "ch_low.show(5)"
   ]
  },
  {
   "cell_type": "code",
   "execution_count": 26,
   "id": "7228d3a7-99b3-421d-80cd-6ea4cbfd0f76",
   "metadata": {},
   "outputs": [
    {
     "data": {
      "text/plain": [
       "count: Long = 397\n"
      ]
     },
     "execution_count": 26,
     "metadata": {},
     "output_type": "execute_result"
    }
   ],
   "source": [
    "val count = ch_low.count()"
   ]
  },
  {
   "cell_type": "code",
   "execution_count": 27,
   "id": "cab7a82c-6e69-41c6-843c-08cc973bc8a4",
   "metadata": {},
   "outputs": [
    {
     "name": "stdout",
     "output_type": "stream",
     "text": [
      "+----------+-----+-----+-----+-----+-------+\n",
      "|      Date| Open| High|  Low|Close| Volume|\n",
      "+----------+-----+-----+-----+-----+-------+\n",
      "|2006-04-27|472.0|484.4|471.5|481.5|2464800|\n",
      "+----------+-----+-----+-----+-----+-------+\n",
      "\n"
     ]
    }
   ],
   "source": [
    "df.filter($\"High\" === 484.40).show()"
   ]
  },
  {
   "cell_type": "code",
   "execution_count": 28,
   "id": "dd8172f0-83c5-4f20-ade0-4c28e7fe904c",
   "metadata": {},
   "outputs": [
    {
     "name": "stdout",
     "output_type": "stream",
     "text": [
      "+----------+-----+-----+-----+-----+-------+\n",
      "|      Date| Open| High|  Low|Close| Volume|\n",
      "+----------+-----+-----+-----+-----+-------+\n",
      "|2006-04-27|472.0|484.4|471.5|481.5|2464800|\n",
      "+----------+-----+-----+-----+-----+-------+\n",
      "\n"
     ]
    }
   ],
   "source": [
    "// sql style\n",
    "\n",
    "df.filter(\"High == 484.40\").show()"
   ]
  },
  {
   "cell_type": "code",
   "execution_count": 29,
   "id": "292e15f3-d4f6-4e5e-87b2-5633656c89c9",
   "metadata": {},
   "outputs": [
    {
     "name": "stdout",
     "output_type": "stream",
     "text": [
      "+------------------+\n",
      "|   corr(High, Low)|\n",
      "+------------------+\n",
      "|0.9992999172726325|\n",
      "+------------------+\n",
      "\n"
     ]
    }
   ],
   "source": [
    "df.select(corr(\"High\", \"Low\")).show()"
   ]
  },
  {
   "cell_type": "code",
   "execution_count": 30,
   "id": "469f77a9-cc8c-4590-9faf-594b14e2cc33",
   "metadata": {},
   "outputs": [
    {
     "name": "stdout",
     "output_type": "stream",
     "text": [
      "+----------+-----+-----+-----+-----+-------+\n",
      "|      Date| Open| High|  Low|Close| Volume|\n",
      "+----------+-----+-----+-----+-----+-------+\n",
      "|2006-01-20|472.1|474.0|456.3|456.9|4781930|\n",
      "|2006-01-23|460.0|463.8|457.0|460.0|2025500|\n",
      "|2006-01-24|462.9|463.6|459.9|460.1|2083740|\n",
      "|2006-01-25|461.4|463.7|460.1|462.3|1591940|\n",
      "|2006-01-26|465.5|475.5|464.5|470.1|1988600|\n",
      "|2006-01-27|470.1|473.7|466.0|468.7|1412760|\n",
      "|2006-01-30|468.7|469.9|466.6|468.2|1057630|\n",
      "|2006-01-31|468.3|470.5|465.5|465.8|1887280|\n",
      "|2006-02-01|465.9|467.2|461.1|463.3|1844970|\n",
      "|2006-02-02|459.0|461.0|451.0|451.8|2325470|\n",
      "|2006-02-03|450.7|456.1|448.1|450.6|1666510|\n",
      "|2006-02-06|452.6|456.1|450.9|451.7|1147430|\n",
      "|2006-02-07|452.0|453.8|450.0|450.5|1207780|\n",
      "|2006-02-08|453.3|455.3|450.7|453.6|1051370|\n",
      "|2006-02-09|455.0|461.0|454.3|457.9|1357740|\n",
      "|2006-02-10|457.0|460.7|452.5|459.6|1272030|\n",
      "|2006-02-13|460.6|462.3|454.1|456.8|1158300|\n",
      "|2006-02-14|457.8|462.5|457.1|461.2|1518040|\n",
      "|2006-02-15|460.4|464.7|457.6|462.5|1700050|\n",
      "|2006-02-16|463.0|464.4|460.4|464.4|1326000|\n",
      "+----------+-----+-----+-----+-----+-------+\n",
      "only showing top 20 rows\n",
      "\n"
     ]
    }
   ],
   "source": [
    "df.filter($\"Close\" < 480 && $\"High\" < 480).show()"
   ]
  },
  {
   "cell_type": "code",
   "execution_count": null,
   "id": "8b4d8768-7d64-4e9f-bad8-0e31899c6e85",
   "metadata": {},
   "outputs": [],
   "source": []
  },
  {
   "cell_type": "code",
   "execution_count": null,
   "id": "21ec50e2-1a6e-4665-a8dd-ed0abcd541fe",
   "metadata": {},
   "outputs": [],
   "source": []
  },
  {
   "cell_type": "code",
   "execution_count": null,
   "id": "6380053a-dcdc-4082-a8a9-917476590268",
   "metadata": {},
   "outputs": [],
   "source": []
  }
 ],
 "metadata": {
  "kernelspec": {
   "display_name": "spylon-kernel",
   "language": "scala",
   "name": "spylon-kernel"
  },
  "language_info": {
   "codemirror_mode": "text/x-scala",
   "file_extension": ".scala",
   "help_links": [
    {
     "text": "MetaKernel Magics",
     "url": "https://metakernel.readthedocs.io/en/latest/source/README.html"
    }
   ],
   "mimetype": "text/x-scala",
   "name": "scala",
   "pygments_lexer": "scala",
   "version": "0.4.1"
  }
 },
 "nbformat": 4,
 "nbformat_minor": 5
}
