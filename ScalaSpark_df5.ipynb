{
 "cells": [
  {
   "cell_type": "code",
   "execution_count": 1,
   "id": "979c3634-74ef-4ffa-823c-ac81ac692b59",
   "metadata": {},
   "outputs": [
    {
     "data": {
      "text/plain": [
       "Intitializing Scala interpreter ..."
      ]
     },
     "metadata": {},
     "output_type": "display_data"
    },
    {
     "data": {
      "text/plain": [
       "Spark Web UI available at http://74e4be6e0134:4044\n",
       "SparkContext available as 'sc' (version = 3.2.1, master = local[*], app id = local-1651480830600)\n",
       "SparkSession available as 'spark'\n"
      ]
     },
     "metadata": {},
     "output_type": "display_data"
    },
    {
     "data": {
      "text/plain": [
       "import org.apache.spark.sql.SparkSession\n",
       "spark: org.apache.spark.sql.SparkSession = org.apache.spark.sql.SparkSession@12fe4f09\n",
       "import spark.implicits._\n"
      ]
     },
     "execution_count": 1,
     "metadata": {},
     "output_type": "execute_result"
    }
   ],
   "source": [
    "import org.apache.spark.sql.SparkSession\n",
    "\n",
    "val spark = SparkSession.builder()\n",
    "                        .appName(\"TestApp\")\n",
    "                        .config(\"spark.master\", \"local\")\n",
    "                        .getOrCreate()\n",
    "\n",
    "// required for scala spark $ syntax\n",
    "import spark.implicits._"
   ]
  },
  {
   "cell_type": "code",
   "execution_count": 3,
   "id": "54fe7707-a9fc-4182-96e9-871be0e469c8",
   "metadata": {},
   "outputs": [
    {
     "data": {
      "text/plain": [
       "df: org.apache.spark.sql.DataFrame = [Date: string, Open: double ... 5 more fields]\n"
      ]
     },
     "execution_count": 3,
     "metadata": {},
     "output_type": "execute_result"
    }
   ],
   "source": [
    "val df = spark.read.option(\"header\", \"true\").option(\"inferSchema\",\"true\").csv(\"Net_11_16\")"
   ]
  },
  {
   "cell_type": "code",
   "execution_count": 4,
   "id": "d1f84561-5b9c-448c-b67d-dfb0e9969c03",
   "metadata": {},
   "outputs": [
    {
     "data": {
      "text/plain": [
       "res0: Array[String] = Array(Date, Open, High, Low, Close, Volume, Adj Close)\n"
      ]
     },
     "execution_count": 4,
     "metadata": {},
     "output_type": "execute_result"
    }
   ],
   "source": [
    "df.columns"
   ]
  },
  {
   "cell_type": "code",
   "execution_count": 12,
   "id": "c907c3e9-0dc6-4b82-9aa8-9da20574f0c3",
   "metadata": {},
   "outputs": [
    {
     "name": "stdout",
     "output_type": "stream",
     "text": [
      "root\n",
      " |-- Date: string (nullable = true)\n",
      " |-- Open: double (nullable = true)\n",
      " |-- High: double (nullable = true)\n",
      " |-- Low: double (nullable = true)\n",
      " |-- Close: double (nullable = true)\n",
      " |-- Volume: integer (nullable = true)\n",
      " |-- Adj Close: double (nullable = true)\n",
      "\n"
     ]
    }
   ],
   "source": [
    "df.printSchema()"
   ]
  },
  {
   "cell_type": "code",
   "execution_count": 6,
   "id": "3fcfec4a-b2fb-4099-bc85-7e65185bfab3",
   "metadata": {},
   "outputs": [
    {
     "name": "stdout",
     "output_type": "stream",
     "text": [
      "+-------+----------+------------------+------------------+------------------+------------------+--------------------+------------------+\n",
      "|summary|      Date|              Open|              High|               Low|             Close|              Volume|         Adj Close|\n",
      "+-------+----------+------------------+------------------+------------------+------------------+--------------------+------------------+\n",
      "|  count|      1259|              1259|              1259|              1259|              1259|                1259|              1259|\n",
      "|   mean|      null|230.39351086656092|233.97320872915006|226.80127876251044|  230.522453845909|2.5634836060365368E7|55.610540036536875|\n",
      "| stddev|      null|164.37456353264244| 165.9705082667129| 162.6506358235739|164.40918905512854| 2.306312683388607E7|35.186669331525486|\n",
      "|    min|2011-10-24|         53.990001|         55.480001|             52.81|              53.8|             3531300|          7.685714|\n",
      "|    max|2016-10-24|        708.900017|        716.159996|        697.569984|        707.610001|           315541800|        130.929993|\n",
      "+-------+----------+------------------+------------------+------------------+------------------+--------------------+------------------+\n",
      "\n"
     ]
    }
   ],
   "source": [
    "df.describe().show()"
   ]
  },
  {
   "cell_type": "code",
   "execution_count": 7,
   "id": "00feec7a-e26b-4d51-a0ac-72ecbc998da3",
   "metadata": {},
   "outputs": [
    {
     "data": {
      "text/plain": [
       "df2: org.apache.spark.sql.DataFrame = [Date: string, Open: double ... 6 more fields]\n"
      ]
     },
     "execution_count": 7,
     "metadata": {},
     "output_type": "execute_result"
    }
   ],
   "source": [
    "// HV Ratio computation\n",
    "val df2 = df.withColumn(\"HV Ratio\", df(\"High\")/df(\"Volume\"))"
   ]
  },
  {
   "cell_type": "code",
   "execution_count": 8,
   "id": "3f4cb485-0f51-4d72-9312-146b67e2c95a",
   "metadata": {},
   "outputs": [
    {
     "name": "stdout",
     "output_type": "stream",
     "text": [
      "+----------+-----------------+----------+----------+----------+--------+------------------+\n",
      "|      Date|             Open|      High|       Low|     Close|  Volume|         Adj Close|\n",
      "+----------+-----------------+----------+----------+----------+--------+------------------+\n",
      "|2015-07-13|686.6900019999999|716.159996|686.550026|707.610001|33205200|101.08714300000001|\n",
      "+----------+-----------------+----------+----------+----------+--------+------------------+\n",
      "only showing top 1 row\n",
      "\n"
     ]
    }
   ],
   "source": [
    "df.orderBy($\"High\".desc).show(1)"
   ]
  },
  {
   "cell_type": "code",
   "execution_count": 11,
   "id": "42acba11-22c8-4533-a626-35139a281cc7",
   "metadata": {},
   "outputs": [
    {
     "name": "stdout",
     "output_type": "stream",
     "text": [
      "+----------------+\n",
      "|      avg(Close)|\n",
      "+----------------+\n",
      "|230.522453845909|\n",
      "+----------------+\n",
      "\n"
     ]
    }
   ],
   "source": [
    "df.select(mean(\"Close\")).show()"
   ]
  },
  {
   "cell_type": "code",
   "execution_count": 13,
   "id": "ae11e775-c8b8-469c-8529-a50574a7a2c5",
   "metadata": {},
   "outputs": [
    {
     "name": "stdout",
     "output_type": "stream",
     "text": [
      "+-----------+\n",
      "|max(Volume)|\n",
      "+-----------+\n",
      "|  315541800|\n",
      "+-----------+\n",
      "\n"
     ]
    }
   ],
   "source": [
    "// max and min of volume column\n",
    "df.select(max(\"Volume\")).show()"
   ]
  },
  {
   "cell_type": "code",
   "execution_count": 14,
   "id": "5a4b179e-212b-464e-8fe7-b74e4f96e68c",
   "metadata": {},
   "outputs": [
    {
     "name": "stdout",
     "output_type": "stream",
     "text": [
      "+-----------+\n",
      "|min(Volume)|\n",
      "+-----------+\n",
      "|    3531300|\n",
      "+-----------+\n",
      "\n"
     ]
    }
   ],
   "source": [
    "df.select(min(\"Volume\")).show()"
   ]
  },
  {
   "cell_type": "code",
   "execution_count": 16,
   "id": "b964e59c-bb44-4f53-8176-b54d2244ad01",
   "metadata": {},
   "outputs": [
    {
     "name": "stdout",
     "output_type": "stream",
     "text": [
      "+----------+----------+------------------+----------+-----------------+---------+------------------+\n",
      "|      Date|      Open|              High|       Low|            Close|   Volume|         Adj Close|\n",
      "+----------+----------+------------------+----------+-----------------+---------+------------------+\n",
      "|2011-10-24|119.100002|120.28000300000001|115.100004|       118.839996|120460200|         16.977142|\n",
      "|2011-10-25| 74.899999|         79.390001| 74.249997|        77.370002|315541800|11.052857000000001|\n",
      "|2011-10-26|     78.73|         81.420001| 75.399997|        79.400002|148733900|         11.342857|\n",
      "|2011-10-27| 82.179998| 82.71999699999999| 79.249998|80.86000200000001| 71190000|11.551428999999999|\n",
      "+----------+----------+------------------+----------+-----------------+---------+------------------+\n",
      "only showing top 4 rows\n",
      "\n"
     ]
    }
   ],
   "source": [
    "df.filter($\"Close\" < 600).show(4)"
   ]
  },
  {
   "cell_type": "code",
   "execution_count": 17,
   "id": "843c9b4b-0698-448a-ae27-475155f1d131",
   "metadata": {},
   "outputs": [
    {
     "data": {
      "text/plain": [
       "res12: Long = 1218\n"
      ]
     },
     "execution_count": 17,
     "metadata": {},
     "output_type": "execute_result"
    }
   ],
   "source": [
    "df.filter($\"Close\" < 600).count()"
   ]
  },
  {
   "cell_type": "code",
   "execution_count": 21,
   "id": "7ec8a871-d586-405e-ace8-db99d38a3d4a",
   "metadata": {},
   "outputs": [
    {
     "data": {
      "text/plain": [
       "res16: Double = 4.924543288324067\n"
      ]
     },
     "execution_count": 21,
     "metadata": {},
     "output_type": "execute_result"
    }
   ],
   "source": [
    "// what precentage of time high was greater than $500\n",
    "((df.filter($\"High\">500).count() * 1.0)/ df.count()) * 100"
   ]
  },
  {
   "cell_type": "code",
   "execution_count": 22,
   "id": "8483ec35-87cd-45f7-a051-b49d43577953",
   "metadata": {},
   "outputs": [
    {
     "name": "stdout",
     "output_type": "stream",
     "text": [
      "+--------------------+\n",
      "|  corr(High, Volume)|\n",
      "+--------------------+\n",
      "|-0.20960233287942157|\n",
      "+--------------------+\n",
      "\n"
     ]
    }
   ],
   "source": [
    "// Pearson correlation between High & Volume\n",
    "df.select(corr(\"High\", \"Volume\")).show()"
   ]
  },
  {
   "cell_type": "code",
   "execution_count": 23,
   "id": "82484aa0-043d-4f93-8d90-6f225fcddd6c",
   "metadata": {},
   "outputs": [
    {
     "data": {
      "text/plain": [
       "yeardf: org.apache.spark.sql.DataFrame = [Date: string, Open: double ... 6 more fields]\n",
       "yearmaxs: org.apache.spark.sql.DataFrame = [Year: int, max(Year): int ... 1 more field]\n"
      ]
     },
     "execution_count": 23,
     "metadata": {},
     "output_type": "execute_result"
    }
   ],
   "source": [
    "// max high per year \n",
    "val yeardf = df.withColumn(\"Year\", year(df(\"Date\")))\n",
    "val yearmaxs = yeardf.select($\"Year\", $\"High\").groupBy(\"Year\").max()"
   ]
  },
  {
   "cell_type": "code",
   "execution_count": 25,
   "id": "aacc7be7-9753-4b26-9bb8-62a22691c354",
   "metadata": {},
   "outputs": [
    {
     "name": "stdout",
     "output_type": "stream",
     "text": [
      "+----+------------------+\n",
      "|Year|         max(High)|\n",
      "+----+------------------+\n",
      "|2015|        716.159996|\n",
      "|2013|        389.159988|\n",
      "|2014|        489.290024|\n",
      "|2012|        133.429996|\n",
      "|2016|129.28999299999998|\n",
      "|2011|120.28000300000001|\n",
      "+----+------------------+\n",
      "\n"
     ]
    }
   ],
   "source": [
    "yearmaxs.select($\"Year\", $\"max(High)\").show()"
   ]
  },
  {
   "cell_type": "code",
   "execution_count": 28,
   "id": "95afc6ba-cecb-4a63-a7e4-04865de05ed4",
   "metadata": {},
   "outputs": [
    {
     "name": "stdout",
     "output_type": "stream",
     "text": [
      "+-----+------------------+\n",
      "|Month|        avg(Close)|\n",
      "+-----+------------------+\n",
      "|    1|212.22613874257422|\n",
      "|    2| 254.1954634020619|\n",
      "|    3| 249.5825228971963|\n",
      "|    4|246.97514271428562|\n",
      "|    5|264.37037614150944|\n",
      "|    6| 295.1597153490566|\n",
      "|    7|243.64747528037387|\n",
      "|    8|195.25599892727263|\n",
      "|    9|206.09598121568627|\n",
      "|   10|205.93297300900903|\n",
      "|   11| 194.3172275445545|\n",
      "|   12| 199.3700942358491|\n",
      "+-----+------------------+\n",
      "\n"
     ]
    },
    {
     "data": {
      "text/plain": [
       "monthdf: org.apache.spark.sql.DataFrame = [Date: string, Open: double ... 6 more fields]\n",
       "monthavgs: org.apache.spark.sql.DataFrame = [Month: int, avg(Month): double ... 1 more field]\n"
      ]
     },
     "execution_count": 28,
     "metadata": {},
     "output_type": "execute_result"
    }
   ],
   "source": [
    "// average close for each calender month\n",
    "val monthdf = df.withColumn(\"Month\", month(df(\"Date\")))\n",
    "val monthavgs = monthdf.select($\"Month\", $\"Close\").groupBy(\"Month\").mean()\n",
    "monthavgs.select($\"Month\", $\"avg(Close)\").orderBy(\"Month\").show()"
   ]
  },
  {
   "cell_type": "code",
   "execution_count": null,
   "id": "7e164317-9f19-48e8-a3bc-58ae27ecaa85",
   "metadata": {},
   "outputs": [],
   "source": []
  }
 ],
 "metadata": {
  "kernelspec": {
   "display_name": "spylon-kernel",
   "language": "scala",
   "name": "spylon-kernel"
  },
  "language_info": {
   "codemirror_mode": "text/x-scala",
   "file_extension": ".scala",
   "help_links": [
    {
     "text": "MetaKernel Magics",
     "url": "https://metakernel.readthedocs.io/en/latest/source/README.html"
    }
   ],
   "mimetype": "text/x-scala",
   "name": "scala",
   "pygments_lexer": "scala",
   "version": "0.4.1"
  }
 },
 "nbformat": 4,
 "nbformat_minor": 5
}
